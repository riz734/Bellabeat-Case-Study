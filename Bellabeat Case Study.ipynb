{
 "cells": [
  {
   "cell_type": "markdown",
   "id": "0d5a8f18",
   "metadata": {},
   "source": [
    "## Google Data Analytics Capstone Case Study"
   ]
  },
  {
   "cell_type": "markdown",
   "id": "9ecc0246",
   "metadata": {},
   "source": [
    "This is one of the capstone project for the Coursera Google Data Analytics Certification. For this case study, I will assist a fitness tech company callsed Bellabeat improve their marketing strategies by analyzing customer data from other fitness devices such as FitBit."
   ]
  },
  {
   "cell_type": "markdown",
   "id": "2e59b990",
   "metadata": {},
   "source": [
    "### Questions"
   ]
  },
  {
   "cell_type": "markdown",
   "id": "0471fc80",
   "metadata": {},
   "source": [
    "- What are some trends in smart device usage?\n",
    "- How could these trends apply to Bellabeat customers?\n",
    "- How could these trends help influence Bellabeat marketing strategy?\n",
    "- What features/products does Bellabeat already have that should be marketed more and what should the company consider adding?"
   ]
  },
  {
   "cell_type": "code",
   "execution_count": 2,
   "id": "dd96eef8",
   "metadata": {},
   "outputs": [],
   "source": [
    "import pandas as pd\n",
    "import numpy as np"
   ]
  },
  {
   "cell_type": "code",
   "execution_count": 3,
   "id": "5893a481",
   "metadata": {},
   "outputs": [],
   "source": [
    "daily_act = pd.read_csv(\"fitbit_data/dailyActivity_merged.csv\")\n",
    "daily_cal = pd.read_csv(\"fitbit_data/dailyCalories_merged.csv\")\n",
    "daily_sleep = pd.read_csv(\"fitbit_data/sleepDay_merged.csv\")\n",
    "daily_intensities = pd.read_csv(\"fitbit_data/dailyIntensities_merged.csv\")\n",
    "weight_log = pd.read_csv(\"fitbit_data/weightLogInfo_merged.csv\")"
   ]
  },
  {
   "cell_type": "markdown",
   "id": "d7c0aab6",
   "metadata": {},
   "source": [
    "### EDA"
   ]
  },
  {
   "cell_type": "markdown",
   "id": "bb6f857d",
   "metadata": {},
   "source": [
    "#### daily_activity"
   ]
  },
  {
   "cell_type": "code",
   "execution_count": 4,
   "id": "369d7790",
   "metadata": {},
   "outputs": [
    {
     "data": {
      "text/plain": [
       "Index(['Id', 'ActivityDate', 'TotalSteps', 'TotalDistance', 'TrackerDistance',\n",
       "       'LoggedActivitiesDistance', 'VeryActiveDistance',\n",
       "       'ModeratelyActiveDistance', 'LightActiveDistance',\n",
       "       'SedentaryActiveDistance', 'VeryActiveMinutes', 'FairlyActiveMinutes',\n",
       "       'LightlyActiveMinutes', 'SedentaryMinutes', 'Calories'],\n",
       "      dtype='object')"
      ]
     },
     "execution_count": 4,
     "metadata": {},
     "output_type": "execute_result"
    }
   ],
   "source": [
    "daily_act.columns"
   ]
  },
  {
   "cell_type": "code",
   "execution_count": 5,
   "id": "e266dd56",
   "metadata": {
    "scrolled": true
   },
   "outputs": [
    {
     "data": {
      "text/html": [
       "<div>\n",
       "<style scoped>\n",
       "    .dataframe tbody tr th:only-of-type {\n",
       "        vertical-align: middle;\n",
       "    }\n",
       "\n",
       "    .dataframe tbody tr th {\n",
       "        vertical-align: top;\n",
       "    }\n",
       "\n",
       "    .dataframe thead th {\n",
       "        text-align: right;\n",
       "    }\n",
       "</style>\n",
       "<table border=\"1\" class=\"dataframe\">\n",
       "  <thead>\n",
       "    <tr style=\"text-align: right;\">\n",
       "      <th></th>\n",
       "      <th>Id</th>\n",
       "      <th>ActivityDate</th>\n",
       "      <th>TotalSteps</th>\n",
       "      <th>TotalDistance</th>\n",
       "      <th>TrackerDistance</th>\n",
       "      <th>LoggedActivitiesDistance</th>\n",
       "      <th>VeryActiveDistance</th>\n",
       "      <th>ModeratelyActiveDistance</th>\n",
       "      <th>LightActiveDistance</th>\n",
       "      <th>SedentaryActiveDistance</th>\n",
       "      <th>VeryActiveMinutes</th>\n",
       "      <th>FairlyActiveMinutes</th>\n",
       "      <th>LightlyActiveMinutes</th>\n",
       "      <th>SedentaryMinutes</th>\n",
       "      <th>Calories</th>\n",
       "    </tr>\n",
       "  </thead>\n",
       "  <tbody>\n",
       "    <tr>\n",
       "      <th>0</th>\n",
       "      <td>1503960366</td>\n",
       "      <td>4/12/2016</td>\n",
       "      <td>13162</td>\n",
       "      <td>8.50</td>\n",
       "      <td>8.50</td>\n",
       "      <td>0.0</td>\n",
       "      <td>1.88</td>\n",
       "      <td>0.55</td>\n",
       "      <td>6.06</td>\n",
       "      <td>0.0</td>\n",
       "      <td>25</td>\n",
       "      <td>13</td>\n",
       "      <td>328</td>\n",
       "      <td>728</td>\n",
       "      <td>1985</td>\n",
       "    </tr>\n",
       "    <tr>\n",
       "      <th>1</th>\n",
       "      <td>1503960366</td>\n",
       "      <td>4/13/2016</td>\n",
       "      <td>10735</td>\n",
       "      <td>6.97</td>\n",
       "      <td>6.97</td>\n",
       "      <td>0.0</td>\n",
       "      <td>1.57</td>\n",
       "      <td>0.69</td>\n",
       "      <td>4.71</td>\n",
       "      <td>0.0</td>\n",
       "      <td>21</td>\n",
       "      <td>19</td>\n",
       "      <td>217</td>\n",
       "      <td>776</td>\n",
       "      <td>1797</td>\n",
       "    </tr>\n",
       "    <tr>\n",
       "      <th>2</th>\n",
       "      <td>1503960366</td>\n",
       "      <td>4/14/2016</td>\n",
       "      <td>10460</td>\n",
       "      <td>6.74</td>\n",
       "      <td>6.74</td>\n",
       "      <td>0.0</td>\n",
       "      <td>2.44</td>\n",
       "      <td>0.40</td>\n",
       "      <td>3.91</td>\n",
       "      <td>0.0</td>\n",
       "      <td>30</td>\n",
       "      <td>11</td>\n",
       "      <td>181</td>\n",
       "      <td>1218</td>\n",
       "      <td>1776</td>\n",
       "    </tr>\n",
       "    <tr>\n",
       "      <th>3</th>\n",
       "      <td>1503960366</td>\n",
       "      <td>4/15/2016</td>\n",
       "      <td>9762</td>\n",
       "      <td>6.28</td>\n",
       "      <td>6.28</td>\n",
       "      <td>0.0</td>\n",
       "      <td>2.14</td>\n",
       "      <td>1.26</td>\n",
       "      <td>2.83</td>\n",
       "      <td>0.0</td>\n",
       "      <td>29</td>\n",
       "      <td>34</td>\n",
       "      <td>209</td>\n",
       "      <td>726</td>\n",
       "      <td>1745</td>\n",
       "    </tr>\n",
       "    <tr>\n",
       "      <th>4</th>\n",
       "      <td>1503960366</td>\n",
       "      <td>4/16/2016</td>\n",
       "      <td>12669</td>\n",
       "      <td>8.16</td>\n",
       "      <td>8.16</td>\n",
       "      <td>0.0</td>\n",
       "      <td>2.71</td>\n",
       "      <td>0.41</td>\n",
       "      <td>5.04</td>\n",
       "      <td>0.0</td>\n",
       "      <td>36</td>\n",
       "      <td>10</td>\n",
       "      <td>221</td>\n",
       "      <td>773</td>\n",
       "      <td>1863</td>\n",
       "    </tr>\n",
       "  </tbody>\n",
       "</table>\n",
       "</div>"
      ],
      "text/plain": [
       "           Id ActivityDate  TotalSteps  TotalDistance  TrackerDistance  \\\n",
       "0  1503960366    4/12/2016       13162           8.50             8.50   \n",
       "1  1503960366    4/13/2016       10735           6.97             6.97   \n",
       "2  1503960366    4/14/2016       10460           6.74             6.74   \n",
       "3  1503960366    4/15/2016        9762           6.28             6.28   \n",
       "4  1503960366    4/16/2016       12669           8.16             8.16   \n",
       "\n",
       "   LoggedActivitiesDistance  VeryActiveDistance  ModeratelyActiveDistance  \\\n",
       "0                       0.0                1.88                      0.55   \n",
       "1                       0.0                1.57                      0.69   \n",
       "2                       0.0                2.44                      0.40   \n",
       "3                       0.0                2.14                      1.26   \n",
       "4                       0.0                2.71                      0.41   \n",
       "\n",
       "   LightActiveDistance  SedentaryActiveDistance  VeryActiveMinutes  \\\n",
       "0                 6.06                      0.0                 25   \n",
       "1                 4.71                      0.0                 21   \n",
       "2                 3.91                      0.0                 30   \n",
       "3                 2.83                      0.0                 29   \n",
       "4                 5.04                      0.0                 36   \n",
       "\n",
       "   FairlyActiveMinutes  LightlyActiveMinutes  SedentaryMinutes  Calories  \n",
       "0                   13                   328               728      1985  \n",
       "1                   19                   217               776      1797  \n",
       "2                   11                   181              1218      1776  \n",
       "3                   34                   209               726      1745  \n",
       "4                   10                   221               773      1863  "
      ]
     },
     "execution_count": 5,
     "metadata": {},
     "output_type": "execute_result"
    }
   ],
   "source": [
    "daily_act.head()"
   ]
  },
  {
   "cell_type": "code",
   "execution_count": 6,
   "id": "9c9a5e60",
   "metadata": {},
   "outputs": [
    {
     "data": {
      "text/plain": [
       "(940, 15)"
      ]
     },
     "execution_count": 6,
     "metadata": {},
     "output_type": "execute_result"
    }
   ],
   "source": [
    "daily_act.shape"
   ]
  },
  {
   "cell_type": "code",
   "execution_count": 7,
   "id": "85c8ad85",
   "metadata": {},
   "outputs": [
    {
     "data": {
      "text/html": [
       "<div>\n",
       "<style scoped>\n",
       "    .dataframe tbody tr th:only-of-type {\n",
       "        vertical-align: middle;\n",
       "    }\n",
       "\n",
       "    .dataframe tbody tr th {\n",
       "        vertical-align: top;\n",
       "    }\n",
       "\n",
       "    .dataframe thead th {\n",
       "        text-align: right;\n",
       "    }\n",
       "</style>\n",
       "<table border=\"1\" class=\"dataframe\">\n",
       "  <thead>\n",
       "    <tr style=\"text-align: right;\">\n",
       "      <th></th>\n",
       "      <th>Id</th>\n",
       "      <th>TotalSteps</th>\n",
       "      <th>TotalDistance</th>\n",
       "      <th>TrackerDistance</th>\n",
       "      <th>LoggedActivitiesDistance</th>\n",
       "      <th>VeryActiveDistance</th>\n",
       "      <th>ModeratelyActiveDistance</th>\n",
       "      <th>LightActiveDistance</th>\n",
       "      <th>SedentaryActiveDistance</th>\n",
       "      <th>VeryActiveMinutes</th>\n",
       "      <th>FairlyActiveMinutes</th>\n",
       "      <th>LightlyActiveMinutes</th>\n",
       "      <th>SedentaryMinutes</th>\n",
       "      <th>Calories</th>\n",
       "    </tr>\n",
       "  </thead>\n",
       "  <tbody>\n",
       "    <tr>\n",
       "      <th>count</th>\n",
       "      <td>9.400000e+02</td>\n",
       "      <td>940.000000</td>\n",
       "      <td>940.000000</td>\n",
       "      <td>940.000000</td>\n",
       "      <td>940.000000</td>\n",
       "      <td>940.000000</td>\n",
       "      <td>940.000000</td>\n",
       "      <td>940.000000</td>\n",
       "      <td>940.000000</td>\n",
       "      <td>940.000000</td>\n",
       "      <td>940.000000</td>\n",
       "      <td>940.000000</td>\n",
       "      <td>940.000000</td>\n",
       "      <td>940.000000</td>\n",
       "    </tr>\n",
       "    <tr>\n",
       "      <th>mean</th>\n",
       "      <td>4.855407e+09</td>\n",
       "      <td>7637.910638</td>\n",
       "      <td>5.489702</td>\n",
       "      <td>5.475351</td>\n",
       "      <td>0.108171</td>\n",
       "      <td>1.502681</td>\n",
       "      <td>0.567543</td>\n",
       "      <td>3.340819</td>\n",
       "      <td>0.001606</td>\n",
       "      <td>21.164894</td>\n",
       "      <td>13.564894</td>\n",
       "      <td>192.812766</td>\n",
       "      <td>991.210638</td>\n",
       "      <td>2303.609574</td>\n",
       "    </tr>\n",
       "    <tr>\n",
       "      <th>std</th>\n",
       "      <td>2.424805e+09</td>\n",
       "      <td>5087.150742</td>\n",
       "      <td>3.924606</td>\n",
       "      <td>3.907276</td>\n",
       "      <td>0.619897</td>\n",
       "      <td>2.658941</td>\n",
       "      <td>0.883580</td>\n",
       "      <td>2.040655</td>\n",
       "      <td>0.007346</td>\n",
       "      <td>32.844803</td>\n",
       "      <td>19.987404</td>\n",
       "      <td>109.174700</td>\n",
       "      <td>301.267437</td>\n",
       "      <td>718.166862</td>\n",
       "    </tr>\n",
       "    <tr>\n",
       "      <th>min</th>\n",
       "      <td>1.503960e+09</td>\n",
       "      <td>0.000000</td>\n",
       "      <td>0.000000</td>\n",
       "      <td>0.000000</td>\n",
       "      <td>0.000000</td>\n",
       "      <td>0.000000</td>\n",
       "      <td>0.000000</td>\n",
       "      <td>0.000000</td>\n",
       "      <td>0.000000</td>\n",
       "      <td>0.000000</td>\n",
       "      <td>0.000000</td>\n",
       "      <td>0.000000</td>\n",
       "      <td>0.000000</td>\n",
       "      <td>0.000000</td>\n",
       "    </tr>\n",
       "    <tr>\n",
       "      <th>25%</th>\n",
       "      <td>2.320127e+09</td>\n",
       "      <td>3789.750000</td>\n",
       "      <td>2.620000</td>\n",
       "      <td>2.620000</td>\n",
       "      <td>0.000000</td>\n",
       "      <td>0.000000</td>\n",
       "      <td>0.000000</td>\n",
       "      <td>1.945000</td>\n",
       "      <td>0.000000</td>\n",
       "      <td>0.000000</td>\n",
       "      <td>0.000000</td>\n",
       "      <td>127.000000</td>\n",
       "      <td>729.750000</td>\n",
       "      <td>1828.500000</td>\n",
       "    </tr>\n",
       "    <tr>\n",
       "      <th>50%</th>\n",
       "      <td>4.445115e+09</td>\n",
       "      <td>7405.500000</td>\n",
       "      <td>5.245000</td>\n",
       "      <td>5.245000</td>\n",
       "      <td>0.000000</td>\n",
       "      <td>0.210000</td>\n",
       "      <td>0.240000</td>\n",
       "      <td>3.365000</td>\n",
       "      <td>0.000000</td>\n",
       "      <td>4.000000</td>\n",
       "      <td>6.000000</td>\n",
       "      <td>199.000000</td>\n",
       "      <td>1057.500000</td>\n",
       "      <td>2134.000000</td>\n",
       "    </tr>\n",
       "    <tr>\n",
       "      <th>75%</th>\n",
       "      <td>6.962181e+09</td>\n",
       "      <td>10727.000000</td>\n",
       "      <td>7.712500</td>\n",
       "      <td>7.710000</td>\n",
       "      <td>0.000000</td>\n",
       "      <td>2.052500</td>\n",
       "      <td>0.800000</td>\n",
       "      <td>4.782500</td>\n",
       "      <td>0.000000</td>\n",
       "      <td>32.000000</td>\n",
       "      <td>19.000000</td>\n",
       "      <td>264.000000</td>\n",
       "      <td>1229.500000</td>\n",
       "      <td>2793.250000</td>\n",
       "    </tr>\n",
       "    <tr>\n",
       "      <th>max</th>\n",
       "      <td>8.877689e+09</td>\n",
       "      <td>36019.000000</td>\n",
       "      <td>28.030001</td>\n",
       "      <td>28.030001</td>\n",
       "      <td>4.942142</td>\n",
       "      <td>21.920000</td>\n",
       "      <td>6.480000</td>\n",
       "      <td>10.710000</td>\n",
       "      <td>0.110000</td>\n",
       "      <td>210.000000</td>\n",
       "      <td>143.000000</td>\n",
       "      <td>518.000000</td>\n",
       "      <td>1440.000000</td>\n",
       "      <td>4900.000000</td>\n",
       "    </tr>\n",
       "  </tbody>\n",
       "</table>\n",
       "</div>"
      ],
      "text/plain": [
       "                 Id    TotalSteps  TotalDistance  TrackerDistance  \\\n",
       "count  9.400000e+02    940.000000     940.000000       940.000000   \n",
       "mean   4.855407e+09   7637.910638       5.489702         5.475351   \n",
       "std    2.424805e+09   5087.150742       3.924606         3.907276   \n",
       "min    1.503960e+09      0.000000       0.000000         0.000000   \n",
       "25%    2.320127e+09   3789.750000       2.620000         2.620000   \n",
       "50%    4.445115e+09   7405.500000       5.245000         5.245000   \n",
       "75%    6.962181e+09  10727.000000       7.712500         7.710000   \n",
       "max    8.877689e+09  36019.000000      28.030001        28.030001   \n",
       "\n",
       "       LoggedActivitiesDistance  VeryActiveDistance  ModeratelyActiveDistance  \\\n",
       "count                940.000000          940.000000                940.000000   \n",
       "mean                   0.108171            1.502681                  0.567543   \n",
       "std                    0.619897            2.658941                  0.883580   \n",
       "min                    0.000000            0.000000                  0.000000   \n",
       "25%                    0.000000            0.000000                  0.000000   \n",
       "50%                    0.000000            0.210000                  0.240000   \n",
       "75%                    0.000000            2.052500                  0.800000   \n",
       "max                    4.942142           21.920000                  6.480000   \n",
       "\n",
       "       LightActiveDistance  SedentaryActiveDistance  VeryActiveMinutes  \\\n",
       "count           940.000000               940.000000         940.000000   \n",
       "mean              3.340819                 0.001606          21.164894   \n",
       "std               2.040655                 0.007346          32.844803   \n",
       "min               0.000000                 0.000000           0.000000   \n",
       "25%               1.945000                 0.000000           0.000000   \n",
       "50%               3.365000                 0.000000           4.000000   \n",
       "75%               4.782500                 0.000000          32.000000   \n",
       "max              10.710000                 0.110000         210.000000   \n",
       "\n",
       "       FairlyActiveMinutes  LightlyActiveMinutes  SedentaryMinutes  \\\n",
       "count           940.000000            940.000000        940.000000   \n",
       "mean             13.564894            192.812766        991.210638   \n",
       "std              19.987404            109.174700        301.267437   \n",
       "min               0.000000              0.000000          0.000000   \n",
       "25%               0.000000            127.000000        729.750000   \n",
       "50%               6.000000            199.000000       1057.500000   \n",
       "75%              19.000000            264.000000       1229.500000   \n",
       "max             143.000000            518.000000       1440.000000   \n",
       "\n",
       "          Calories  \n",
       "count   940.000000  \n",
       "mean   2303.609574  \n",
       "std     718.166862  \n",
       "min       0.000000  \n",
       "25%    1828.500000  \n",
       "50%    2134.000000  \n",
       "75%    2793.250000  \n",
       "max    4900.000000  "
      ]
     },
     "execution_count": 7,
     "metadata": {},
     "output_type": "execute_result"
    }
   ],
   "source": [
    "daily_act.describe()"
   ]
  },
  {
   "cell_type": "markdown",
   "id": "d29c58c0",
   "metadata": {},
   "source": [
    "#### daily_cal"
   ]
  },
  {
   "cell_type": "code",
   "execution_count": 8,
   "id": "74c7343f",
   "metadata": {},
   "outputs": [
    {
     "data": {
      "text/plain": [
       "Index(['Id', 'ActivityDay', 'Calories'], dtype='object')"
      ]
     },
     "execution_count": 8,
     "metadata": {},
     "output_type": "execute_result"
    }
   ],
   "source": [
    "daily_cal.columns"
   ]
  },
  {
   "cell_type": "code",
   "execution_count": 9,
   "id": "a2afd546",
   "metadata": {},
   "outputs": [
    {
     "data": {
      "text/html": [
       "<div>\n",
       "<style scoped>\n",
       "    .dataframe tbody tr th:only-of-type {\n",
       "        vertical-align: middle;\n",
       "    }\n",
       "\n",
       "    .dataframe tbody tr th {\n",
       "        vertical-align: top;\n",
       "    }\n",
       "\n",
       "    .dataframe thead th {\n",
       "        text-align: right;\n",
       "    }\n",
       "</style>\n",
       "<table border=\"1\" class=\"dataframe\">\n",
       "  <thead>\n",
       "    <tr style=\"text-align: right;\">\n",
       "      <th></th>\n",
       "      <th>Id</th>\n",
       "      <th>ActivityDay</th>\n",
       "      <th>Calories</th>\n",
       "    </tr>\n",
       "  </thead>\n",
       "  <tbody>\n",
       "    <tr>\n",
       "      <th>0</th>\n",
       "      <td>1503960366</td>\n",
       "      <td>4/12/2016</td>\n",
       "      <td>1985</td>\n",
       "    </tr>\n",
       "    <tr>\n",
       "      <th>1</th>\n",
       "      <td>1503960366</td>\n",
       "      <td>4/13/2016</td>\n",
       "      <td>1797</td>\n",
       "    </tr>\n",
       "    <tr>\n",
       "      <th>2</th>\n",
       "      <td>1503960366</td>\n",
       "      <td>4/14/2016</td>\n",
       "      <td>1776</td>\n",
       "    </tr>\n",
       "    <tr>\n",
       "      <th>3</th>\n",
       "      <td>1503960366</td>\n",
       "      <td>4/15/2016</td>\n",
       "      <td>1745</td>\n",
       "    </tr>\n",
       "    <tr>\n",
       "      <th>4</th>\n",
       "      <td>1503960366</td>\n",
       "      <td>4/16/2016</td>\n",
       "      <td>1863</td>\n",
       "    </tr>\n",
       "  </tbody>\n",
       "</table>\n",
       "</div>"
      ],
      "text/plain": [
       "           Id ActivityDay  Calories\n",
       "0  1503960366   4/12/2016      1985\n",
       "1  1503960366   4/13/2016      1797\n",
       "2  1503960366   4/14/2016      1776\n",
       "3  1503960366   4/15/2016      1745\n",
       "4  1503960366   4/16/2016      1863"
      ]
     },
     "execution_count": 9,
     "metadata": {},
     "output_type": "execute_result"
    }
   ],
   "source": [
    "daily_cal.head()"
   ]
  },
  {
   "cell_type": "code",
   "execution_count": 10,
   "id": "cfc2c012",
   "metadata": {},
   "outputs": [
    {
     "data": {
      "text/plain": [
       "(940, 3)"
      ]
     },
     "execution_count": 10,
     "metadata": {},
     "output_type": "execute_result"
    }
   ],
   "source": [
    "daily_cal.shape"
   ]
  },
  {
   "cell_type": "code",
   "execution_count": 11,
   "id": "d23033c5",
   "metadata": {},
   "outputs": [
    {
     "data": {
      "text/html": [
       "<div>\n",
       "<style scoped>\n",
       "    .dataframe tbody tr th:only-of-type {\n",
       "        vertical-align: middle;\n",
       "    }\n",
       "\n",
       "    .dataframe tbody tr th {\n",
       "        vertical-align: top;\n",
       "    }\n",
       "\n",
       "    .dataframe thead th {\n",
       "        text-align: right;\n",
       "    }\n",
       "</style>\n",
       "<table border=\"1\" class=\"dataframe\">\n",
       "  <thead>\n",
       "    <tr style=\"text-align: right;\">\n",
       "      <th></th>\n",
       "      <th>Id</th>\n",
       "      <th>Calories</th>\n",
       "    </tr>\n",
       "  </thead>\n",
       "  <tbody>\n",
       "    <tr>\n",
       "      <th>count</th>\n",
       "      <td>9.400000e+02</td>\n",
       "      <td>940.000000</td>\n",
       "    </tr>\n",
       "    <tr>\n",
       "      <th>mean</th>\n",
       "      <td>4.855407e+09</td>\n",
       "      <td>2303.609574</td>\n",
       "    </tr>\n",
       "    <tr>\n",
       "      <th>std</th>\n",
       "      <td>2.424805e+09</td>\n",
       "      <td>718.166862</td>\n",
       "    </tr>\n",
       "    <tr>\n",
       "      <th>min</th>\n",
       "      <td>1.503960e+09</td>\n",
       "      <td>0.000000</td>\n",
       "    </tr>\n",
       "    <tr>\n",
       "      <th>25%</th>\n",
       "      <td>2.320127e+09</td>\n",
       "      <td>1828.500000</td>\n",
       "    </tr>\n",
       "    <tr>\n",
       "      <th>50%</th>\n",
       "      <td>4.445115e+09</td>\n",
       "      <td>2134.000000</td>\n",
       "    </tr>\n",
       "    <tr>\n",
       "      <th>75%</th>\n",
       "      <td>6.962181e+09</td>\n",
       "      <td>2793.250000</td>\n",
       "    </tr>\n",
       "    <tr>\n",
       "      <th>max</th>\n",
       "      <td>8.877689e+09</td>\n",
       "      <td>4900.000000</td>\n",
       "    </tr>\n",
       "  </tbody>\n",
       "</table>\n",
       "</div>"
      ],
      "text/plain": [
       "                 Id     Calories\n",
       "count  9.400000e+02   940.000000\n",
       "mean   4.855407e+09  2303.609574\n",
       "std    2.424805e+09   718.166862\n",
       "min    1.503960e+09     0.000000\n",
       "25%    2.320127e+09  1828.500000\n",
       "50%    4.445115e+09  2134.000000\n",
       "75%    6.962181e+09  2793.250000\n",
       "max    8.877689e+09  4900.000000"
      ]
     },
     "execution_count": 11,
     "metadata": {},
     "output_type": "execute_result"
    }
   ],
   "source": [
    "daily_cal.describe()"
   ]
  },
  {
   "cell_type": "markdown",
   "id": "52880491",
   "metadata": {},
   "source": [
    "#### daily_sleep"
   ]
  },
  {
   "cell_type": "code",
   "execution_count": 12,
   "id": "45d1a1a9",
   "metadata": {},
   "outputs": [
    {
     "data": {
      "text/plain": [
       "Index(['Id', 'SleepDay', 'TotalSleepRecords', 'TotalMinutesAsleep',\n",
       "       'TotalTimeInBed'],\n",
       "      dtype='object')"
      ]
     },
     "execution_count": 12,
     "metadata": {},
     "output_type": "execute_result"
    }
   ],
   "source": [
    "daily_sleep.columns"
   ]
  },
  {
   "cell_type": "code",
   "execution_count": 13,
   "id": "1d0287b0",
   "metadata": {},
   "outputs": [
    {
     "data": {
      "text/html": [
       "<div>\n",
       "<style scoped>\n",
       "    .dataframe tbody tr th:only-of-type {\n",
       "        vertical-align: middle;\n",
       "    }\n",
       "\n",
       "    .dataframe tbody tr th {\n",
       "        vertical-align: top;\n",
       "    }\n",
       "\n",
       "    .dataframe thead th {\n",
       "        text-align: right;\n",
       "    }\n",
       "</style>\n",
       "<table border=\"1\" class=\"dataframe\">\n",
       "  <thead>\n",
       "    <tr style=\"text-align: right;\">\n",
       "      <th></th>\n",
       "      <th>Id</th>\n",
       "      <th>SleepDay</th>\n",
       "      <th>TotalSleepRecords</th>\n",
       "      <th>TotalMinutesAsleep</th>\n",
       "      <th>TotalTimeInBed</th>\n",
       "    </tr>\n",
       "  </thead>\n",
       "  <tbody>\n",
       "    <tr>\n",
       "      <th>0</th>\n",
       "      <td>1503960366</td>\n",
       "      <td>4/12/2016 12:00:00 AM</td>\n",
       "      <td>1</td>\n",
       "      <td>327</td>\n",
       "      <td>346</td>\n",
       "    </tr>\n",
       "    <tr>\n",
       "      <th>1</th>\n",
       "      <td>1503960366</td>\n",
       "      <td>4/13/2016 12:00:00 AM</td>\n",
       "      <td>2</td>\n",
       "      <td>384</td>\n",
       "      <td>407</td>\n",
       "    </tr>\n",
       "    <tr>\n",
       "      <th>2</th>\n",
       "      <td>1503960366</td>\n",
       "      <td>4/15/2016 12:00:00 AM</td>\n",
       "      <td>1</td>\n",
       "      <td>412</td>\n",
       "      <td>442</td>\n",
       "    </tr>\n",
       "    <tr>\n",
       "      <th>3</th>\n",
       "      <td>1503960366</td>\n",
       "      <td>4/16/2016 12:00:00 AM</td>\n",
       "      <td>2</td>\n",
       "      <td>340</td>\n",
       "      <td>367</td>\n",
       "    </tr>\n",
       "    <tr>\n",
       "      <th>4</th>\n",
       "      <td>1503960366</td>\n",
       "      <td>4/17/2016 12:00:00 AM</td>\n",
       "      <td>1</td>\n",
       "      <td>700</td>\n",
       "      <td>712</td>\n",
       "    </tr>\n",
       "  </tbody>\n",
       "</table>\n",
       "</div>"
      ],
      "text/plain": [
       "           Id               SleepDay  TotalSleepRecords  TotalMinutesAsleep  \\\n",
       "0  1503960366  4/12/2016 12:00:00 AM                  1                 327   \n",
       "1  1503960366  4/13/2016 12:00:00 AM                  2                 384   \n",
       "2  1503960366  4/15/2016 12:00:00 AM                  1                 412   \n",
       "3  1503960366  4/16/2016 12:00:00 AM                  2                 340   \n",
       "4  1503960366  4/17/2016 12:00:00 AM                  1                 700   \n",
       "\n",
       "   TotalTimeInBed  \n",
       "0             346  \n",
       "1             407  \n",
       "2             442  \n",
       "3             367  \n",
       "4             712  "
      ]
     },
     "execution_count": 13,
     "metadata": {},
     "output_type": "execute_result"
    }
   ],
   "source": [
    "daily_sleep.head()"
   ]
  },
  {
   "cell_type": "code",
   "execution_count": 14,
   "id": "81de31ba",
   "metadata": {
    "scrolled": true
   },
   "outputs": [
    {
     "data": {
      "text/plain": [
       "(413, 5)"
      ]
     },
     "execution_count": 14,
     "metadata": {},
     "output_type": "execute_result"
    }
   ],
   "source": [
    "daily_sleep.shape"
   ]
  },
  {
   "cell_type": "code",
   "execution_count": 15,
   "id": "df514aa2",
   "metadata": {},
   "outputs": [
    {
     "data": {
      "text/html": [
       "<div>\n",
       "<style scoped>\n",
       "    .dataframe tbody tr th:only-of-type {\n",
       "        vertical-align: middle;\n",
       "    }\n",
       "\n",
       "    .dataframe tbody tr th {\n",
       "        vertical-align: top;\n",
       "    }\n",
       "\n",
       "    .dataframe thead th {\n",
       "        text-align: right;\n",
       "    }\n",
       "</style>\n",
       "<table border=\"1\" class=\"dataframe\">\n",
       "  <thead>\n",
       "    <tr style=\"text-align: right;\">\n",
       "      <th></th>\n",
       "      <th>Id</th>\n",
       "      <th>TotalSleepRecords</th>\n",
       "      <th>TotalMinutesAsleep</th>\n",
       "      <th>TotalTimeInBed</th>\n",
       "    </tr>\n",
       "  </thead>\n",
       "  <tbody>\n",
       "    <tr>\n",
       "      <th>count</th>\n",
       "      <td>4.130000e+02</td>\n",
       "      <td>413.000000</td>\n",
       "      <td>413.000000</td>\n",
       "      <td>413.000000</td>\n",
       "    </tr>\n",
       "    <tr>\n",
       "      <th>mean</th>\n",
       "      <td>5.000979e+09</td>\n",
       "      <td>1.118644</td>\n",
       "      <td>419.467312</td>\n",
       "      <td>458.639225</td>\n",
       "    </tr>\n",
       "    <tr>\n",
       "      <th>std</th>\n",
       "      <td>2.060360e+09</td>\n",
       "      <td>0.345521</td>\n",
       "      <td>118.344679</td>\n",
       "      <td>127.101607</td>\n",
       "    </tr>\n",
       "    <tr>\n",
       "      <th>min</th>\n",
       "      <td>1.503960e+09</td>\n",
       "      <td>1.000000</td>\n",
       "      <td>58.000000</td>\n",
       "      <td>61.000000</td>\n",
       "    </tr>\n",
       "    <tr>\n",
       "      <th>25%</th>\n",
       "      <td>3.977334e+09</td>\n",
       "      <td>1.000000</td>\n",
       "      <td>361.000000</td>\n",
       "      <td>403.000000</td>\n",
       "    </tr>\n",
       "    <tr>\n",
       "      <th>50%</th>\n",
       "      <td>4.702922e+09</td>\n",
       "      <td>1.000000</td>\n",
       "      <td>433.000000</td>\n",
       "      <td>463.000000</td>\n",
       "    </tr>\n",
       "    <tr>\n",
       "      <th>75%</th>\n",
       "      <td>6.962181e+09</td>\n",
       "      <td>1.000000</td>\n",
       "      <td>490.000000</td>\n",
       "      <td>526.000000</td>\n",
       "    </tr>\n",
       "    <tr>\n",
       "      <th>max</th>\n",
       "      <td>8.792010e+09</td>\n",
       "      <td>3.000000</td>\n",
       "      <td>796.000000</td>\n",
       "      <td>961.000000</td>\n",
       "    </tr>\n",
       "  </tbody>\n",
       "</table>\n",
       "</div>"
      ],
      "text/plain": [
       "                 Id  TotalSleepRecords  TotalMinutesAsleep  TotalTimeInBed\n",
       "count  4.130000e+02         413.000000          413.000000      413.000000\n",
       "mean   5.000979e+09           1.118644          419.467312      458.639225\n",
       "std    2.060360e+09           0.345521          118.344679      127.101607\n",
       "min    1.503960e+09           1.000000           58.000000       61.000000\n",
       "25%    3.977334e+09           1.000000          361.000000      403.000000\n",
       "50%    4.702922e+09           1.000000          433.000000      463.000000\n",
       "75%    6.962181e+09           1.000000          490.000000      526.000000\n",
       "max    8.792010e+09           3.000000          796.000000      961.000000"
      ]
     },
     "execution_count": 15,
     "metadata": {},
     "output_type": "execute_result"
    }
   ],
   "source": [
    "daily_sleep.describe()"
   ]
  },
  {
   "cell_type": "markdown",
   "id": "53d66b78",
   "metadata": {},
   "source": [
    "#### weight_log"
   ]
  },
  {
   "cell_type": "code",
   "execution_count": 16,
   "id": "c09cae6c",
   "metadata": {},
   "outputs": [
    {
     "data": {
      "text/plain": [
       "Index(['Id', 'Date', 'WeightKg', 'WeightPounds', 'Fat', 'BMI',\n",
       "       'IsManualReport', 'LogId'],\n",
       "      dtype='object')"
      ]
     },
     "execution_count": 16,
     "metadata": {},
     "output_type": "execute_result"
    }
   ],
   "source": [
    "weight_log.columns"
   ]
  },
  {
   "cell_type": "code",
   "execution_count": 17,
   "id": "113d13b4",
   "metadata": {
    "scrolled": true
   },
   "outputs": [
    {
     "data": {
      "text/html": [
       "<div>\n",
       "<style scoped>\n",
       "    .dataframe tbody tr th:only-of-type {\n",
       "        vertical-align: middle;\n",
       "    }\n",
       "\n",
       "    .dataframe tbody tr th {\n",
       "        vertical-align: top;\n",
       "    }\n",
       "\n",
       "    .dataframe thead th {\n",
       "        text-align: right;\n",
       "    }\n",
       "</style>\n",
       "<table border=\"1\" class=\"dataframe\">\n",
       "  <thead>\n",
       "    <tr style=\"text-align: right;\">\n",
       "      <th></th>\n",
       "      <th>Id</th>\n",
       "      <th>Date</th>\n",
       "      <th>WeightKg</th>\n",
       "      <th>WeightPounds</th>\n",
       "      <th>Fat</th>\n",
       "      <th>BMI</th>\n",
       "      <th>IsManualReport</th>\n",
       "      <th>LogId</th>\n",
       "    </tr>\n",
       "  </thead>\n",
       "  <tbody>\n",
       "    <tr>\n",
       "      <th>0</th>\n",
       "      <td>1503960366</td>\n",
       "      <td>5/2/2016 11:59:59 PM</td>\n",
       "      <td>52.599998</td>\n",
       "      <td>115.963147</td>\n",
       "      <td>22.0</td>\n",
       "      <td>22.650000</td>\n",
       "      <td>True</td>\n",
       "      <td>1462233599000</td>\n",
       "    </tr>\n",
       "    <tr>\n",
       "      <th>1</th>\n",
       "      <td>1503960366</td>\n",
       "      <td>5/3/2016 11:59:59 PM</td>\n",
       "      <td>52.599998</td>\n",
       "      <td>115.963147</td>\n",
       "      <td>NaN</td>\n",
       "      <td>22.650000</td>\n",
       "      <td>True</td>\n",
       "      <td>1462319999000</td>\n",
       "    </tr>\n",
       "    <tr>\n",
       "      <th>2</th>\n",
       "      <td>1927972279</td>\n",
       "      <td>4/13/2016 1:08:52 AM</td>\n",
       "      <td>133.500000</td>\n",
       "      <td>294.317120</td>\n",
       "      <td>NaN</td>\n",
       "      <td>47.540001</td>\n",
       "      <td>False</td>\n",
       "      <td>1460509732000</td>\n",
       "    </tr>\n",
       "    <tr>\n",
       "      <th>3</th>\n",
       "      <td>2873212765</td>\n",
       "      <td>4/21/2016 11:59:59 PM</td>\n",
       "      <td>56.700001</td>\n",
       "      <td>125.002104</td>\n",
       "      <td>NaN</td>\n",
       "      <td>21.450001</td>\n",
       "      <td>True</td>\n",
       "      <td>1461283199000</td>\n",
       "    </tr>\n",
       "    <tr>\n",
       "      <th>4</th>\n",
       "      <td>2873212765</td>\n",
       "      <td>5/12/2016 11:59:59 PM</td>\n",
       "      <td>57.299999</td>\n",
       "      <td>126.324875</td>\n",
       "      <td>NaN</td>\n",
       "      <td>21.690001</td>\n",
       "      <td>True</td>\n",
       "      <td>1463097599000</td>\n",
       "    </tr>\n",
       "  </tbody>\n",
       "</table>\n",
       "</div>"
      ],
      "text/plain": [
       "           Id                   Date    WeightKg  WeightPounds   Fat  \\\n",
       "0  1503960366   5/2/2016 11:59:59 PM   52.599998    115.963147  22.0   \n",
       "1  1503960366   5/3/2016 11:59:59 PM   52.599998    115.963147   NaN   \n",
       "2  1927972279   4/13/2016 1:08:52 AM  133.500000    294.317120   NaN   \n",
       "3  2873212765  4/21/2016 11:59:59 PM   56.700001    125.002104   NaN   \n",
       "4  2873212765  5/12/2016 11:59:59 PM   57.299999    126.324875   NaN   \n",
       "\n",
       "         BMI  IsManualReport          LogId  \n",
       "0  22.650000            True  1462233599000  \n",
       "1  22.650000            True  1462319999000  \n",
       "2  47.540001           False  1460509732000  \n",
       "3  21.450001            True  1461283199000  \n",
       "4  21.690001            True  1463097599000  "
      ]
     },
     "execution_count": 17,
     "metadata": {},
     "output_type": "execute_result"
    }
   ],
   "source": [
    "weight_log.head()"
   ]
  },
  {
   "cell_type": "code",
   "execution_count": 18,
   "id": "d3b8da08",
   "metadata": {},
   "outputs": [
    {
     "data": {
      "text/plain": [
       "(67, 8)"
      ]
     },
     "execution_count": 18,
     "metadata": {},
     "output_type": "execute_result"
    }
   ],
   "source": [
    "weight_log.shape"
   ]
  },
  {
   "cell_type": "code",
   "execution_count": 19,
   "id": "33aa8841",
   "metadata": {},
   "outputs": [
    {
     "data": {
      "text/html": [
       "<div>\n",
       "<style scoped>\n",
       "    .dataframe tbody tr th:only-of-type {\n",
       "        vertical-align: middle;\n",
       "    }\n",
       "\n",
       "    .dataframe tbody tr th {\n",
       "        vertical-align: top;\n",
       "    }\n",
       "\n",
       "    .dataframe thead th {\n",
       "        text-align: right;\n",
       "    }\n",
       "</style>\n",
       "<table border=\"1\" class=\"dataframe\">\n",
       "  <thead>\n",
       "    <tr style=\"text-align: right;\">\n",
       "      <th></th>\n",
       "      <th>Id</th>\n",
       "      <th>WeightKg</th>\n",
       "      <th>WeightPounds</th>\n",
       "      <th>Fat</th>\n",
       "      <th>BMI</th>\n",
       "      <th>LogId</th>\n",
       "    </tr>\n",
       "  </thead>\n",
       "  <tbody>\n",
       "    <tr>\n",
       "      <th>count</th>\n",
       "      <td>6.700000e+01</td>\n",
       "      <td>67.000000</td>\n",
       "      <td>67.000000</td>\n",
       "      <td>2.00000</td>\n",
       "      <td>67.000000</td>\n",
       "      <td>6.700000e+01</td>\n",
       "    </tr>\n",
       "    <tr>\n",
       "      <th>mean</th>\n",
       "      <td>7.009282e+09</td>\n",
       "      <td>72.035821</td>\n",
       "      <td>158.811801</td>\n",
       "      <td>23.50000</td>\n",
       "      <td>25.185224</td>\n",
       "      <td>1.461772e+12</td>\n",
       "    </tr>\n",
       "    <tr>\n",
       "      <th>std</th>\n",
       "      <td>1.950322e+09</td>\n",
       "      <td>13.923206</td>\n",
       "      <td>30.695415</td>\n",
       "      <td>2.12132</td>\n",
       "      <td>3.066963</td>\n",
       "      <td>7.829948e+08</td>\n",
       "    </tr>\n",
       "    <tr>\n",
       "      <th>min</th>\n",
       "      <td>1.503960e+09</td>\n",
       "      <td>52.599998</td>\n",
       "      <td>115.963147</td>\n",
       "      <td>22.00000</td>\n",
       "      <td>21.450001</td>\n",
       "      <td>1.460444e+12</td>\n",
       "    </tr>\n",
       "    <tr>\n",
       "      <th>25%</th>\n",
       "      <td>6.962181e+09</td>\n",
       "      <td>61.400002</td>\n",
       "      <td>135.363832</td>\n",
       "      <td>22.75000</td>\n",
       "      <td>23.959999</td>\n",
       "      <td>1.461079e+12</td>\n",
       "    </tr>\n",
       "    <tr>\n",
       "      <th>50%</th>\n",
       "      <td>6.962181e+09</td>\n",
       "      <td>62.500000</td>\n",
       "      <td>137.788914</td>\n",
       "      <td>23.50000</td>\n",
       "      <td>24.389999</td>\n",
       "      <td>1.461802e+12</td>\n",
       "    </tr>\n",
       "    <tr>\n",
       "      <th>75%</th>\n",
       "      <td>8.877689e+09</td>\n",
       "      <td>85.049999</td>\n",
       "      <td>187.503152</td>\n",
       "      <td>24.25000</td>\n",
       "      <td>25.559999</td>\n",
       "      <td>1.462375e+12</td>\n",
       "    </tr>\n",
       "    <tr>\n",
       "      <th>max</th>\n",
       "      <td>8.877689e+09</td>\n",
       "      <td>133.500000</td>\n",
       "      <td>294.317120</td>\n",
       "      <td>25.00000</td>\n",
       "      <td>47.540001</td>\n",
       "      <td>1.463098e+12</td>\n",
       "    </tr>\n",
       "  </tbody>\n",
       "</table>\n",
       "</div>"
      ],
      "text/plain": [
       "                 Id    WeightKg  WeightPounds       Fat        BMI  \\\n",
       "count  6.700000e+01   67.000000     67.000000   2.00000  67.000000   \n",
       "mean   7.009282e+09   72.035821    158.811801  23.50000  25.185224   \n",
       "std    1.950322e+09   13.923206     30.695415   2.12132   3.066963   \n",
       "min    1.503960e+09   52.599998    115.963147  22.00000  21.450001   \n",
       "25%    6.962181e+09   61.400002    135.363832  22.75000  23.959999   \n",
       "50%    6.962181e+09   62.500000    137.788914  23.50000  24.389999   \n",
       "75%    8.877689e+09   85.049999    187.503152  24.25000  25.559999   \n",
       "max    8.877689e+09  133.500000    294.317120  25.00000  47.540001   \n",
       "\n",
       "              LogId  \n",
       "count  6.700000e+01  \n",
       "mean   1.461772e+12  \n",
       "std    7.829948e+08  \n",
       "min    1.460444e+12  \n",
       "25%    1.461079e+12  \n",
       "50%    1.461802e+12  \n",
       "75%    1.462375e+12  \n",
       "max    1.463098e+12  "
      ]
     },
     "execution_count": 19,
     "metadata": {},
     "output_type": "execute_result"
    }
   ],
   "source": [
    "weight_log.describe()"
   ]
  },
  {
   "cell_type": "markdown",
   "id": "6cea7194",
   "metadata": {},
   "source": [
    "#### daily_intensities"
   ]
  },
  {
   "cell_type": "code",
   "execution_count": 20,
   "id": "0e6cdb28",
   "metadata": {},
   "outputs": [
    {
     "data": {
      "text/plain": [
       "Index(['Id', 'ActivityDay', 'SedentaryMinutes', 'LightlyActiveMinutes',\n",
       "       'FairlyActiveMinutes', 'VeryActiveMinutes', 'SedentaryActiveDistance',\n",
       "       'LightActiveDistance', 'ModeratelyActiveDistance',\n",
       "       'VeryActiveDistance'],\n",
       "      dtype='object')"
      ]
     },
     "execution_count": 20,
     "metadata": {},
     "output_type": "execute_result"
    }
   ],
   "source": [
    "daily_intensities.columns"
   ]
  },
  {
   "cell_type": "code",
   "execution_count": 21,
   "id": "a9198d17",
   "metadata": {},
   "outputs": [
    {
     "data": {
      "text/html": [
       "<div>\n",
       "<style scoped>\n",
       "    .dataframe tbody tr th:only-of-type {\n",
       "        vertical-align: middle;\n",
       "    }\n",
       "\n",
       "    .dataframe tbody tr th {\n",
       "        vertical-align: top;\n",
       "    }\n",
       "\n",
       "    .dataframe thead th {\n",
       "        text-align: right;\n",
       "    }\n",
       "</style>\n",
       "<table border=\"1\" class=\"dataframe\">\n",
       "  <thead>\n",
       "    <tr style=\"text-align: right;\">\n",
       "      <th></th>\n",
       "      <th>Id</th>\n",
       "      <th>ActivityDay</th>\n",
       "      <th>SedentaryMinutes</th>\n",
       "      <th>LightlyActiveMinutes</th>\n",
       "      <th>FairlyActiveMinutes</th>\n",
       "      <th>VeryActiveMinutes</th>\n",
       "      <th>SedentaryActiveDistance</th>\n",
       "      <th>LightActiveDistance</th>\n",
       "      <th>ModeratelyActiveDistance</th>\n",
       "      <th>VeryActiveDistance</th>\n",
       "    </tr>\n",
       "  </thead>\n",
       "  <tbody>\n",
       "    <tr>\n",
       "      <th>0</th>\n",
       "      <td>1503960366</td>\n",
       "      <td>4/12/2016</td>\n",
       "      <td>728</td>\n",
       "      <td>328</td>\n",
       "      <td>13</td>\n",
       "      <td>25</td>\n",
       "      <td>0.0</td>\n",
       "      <td>6.06</td>\n",
       "      <td>0.55</td>\n",
       "      <td>1.88</td>\n",
       "    </tr>\n",
       "    <tr>\n",
       "      <th>1</th>\n",
       "      <td>1503960366</td>\n",
       "      <td>4/13/2016</td>\n",
       "      <td>776</td>\n",
       "      <td>217</td>\n",
       "      <td>19</td>\n",
       "      <td>21</td>\n",
       "      <td>0.0</td>\n",
       "      <td>4.71</td>\n",
       "      <td>0.69</td>\n",
       "      <td>1.57</td>\n",
       "    </tr>\n",
       "    <tr>\n",
       "      <th>2</th>\n",
       "      <td>1503960366</td>\n",
       "      <td>4/14/2016</td>\n",
       "      <td>1218</td>\n",
       "      <td>181</td>\n",
       "      <td>11</td>\n",
       "      <td>30</td>\n",
       "      <td>0.0</td>\n",
       "      <td>3.91</td>\n",
       "      <td>0.40</td>\n",
       "      <td>2.44</td>\n",
       "    </tr>\n",
       "    <tr>\n",
       "      <th>3</th>\n",
       "      <td>1503960366</td>\n",
       "      <td>4/15/2016</td>\n",
       "      <td>726</td>\n",
       "      <td>209</td>\n",
       "      <td>34</td>\n",
       "      <td>29</td>\n",
       "      <td>0.0</td>\n",
       "      <td>2.83</td>\n",
       "      <td>1.26</td>\n",
       "      <td>2.14</td>\n",
       "    </tr>\n",
       "    <tr>\n",
       "      <th>4</th>\n",
       "      <td>1503960366</td>\n",
       "      <td>4/16/2016</td>\n",
       "      <td>773</td>\n",
       "      <td>221</td>\n",
       "      <td>10</td>\n",
       "      <td>36</td>\n",
       "      <td>0.0</td>\n",
       "      <td>5.04</td>\n",
       "      <td>0.41</td>\n",
       "      <td>2.71</td>\n",
       "    </tr>\n",
       "  </tbody>\n",
       "</table>\n",
       "</div>"
      ],
      "text/plain": [
       "           Id ActivityDay  SedentaryMinutes  LightlyActiveMinutes  \\\n",
       "0  1503960366   4/12/2016               728                   328   \n",
       "1  1503960366   4/13/2016               776                   217   \n",
       "2  1503960366   4/14/2016              1218                   181   \n",
       "3  1503960366   4/15/2016               726                   209   \n",
       "4  1503960366   4/16/2016               773                   221   \n",
       "\n",
       "   FairlyActiveMinutes  VeryActiveMinutes  SedentaryActiveDistance  \\\n",
       "0                   13                 25                      0.0   \n",
       "1                   19                 21                      0.0   \n",
       "2                   11                 30                      0.0   \n",
       "3                   34                 29                      0.0   \n",
       "4                   10                 36                      0.0   \n",
       "\n",
       "   LightActiveDistance  ModeratelyActiveDistance  VeryActiveDistance  \n",
       "0                 6.06                      0.55                1.88  \n",
       "1                 4.71                      0.69                1.57  \n",
       "2                 3.91                      0.40                2.44  \n",
       "3                 2.83                      1.26                2.14  \n",
       "4                 5.04                      0.41                2.71  "
      ]
     },
     "execution_count": 21,
     "metadata": {},
     "output_type": "execute_result"
    }
   ],
   "source": [
    "daily_intensities.head()"
   ]
  },
  {
   "cell_type": "code",
   "execution_count": 22,
   "id": "24f7660c",
   "metadata": {},
   "outputs": [
    {
     "data": {
      "text/plain": [
       "(940, 10)"
      ]
     },
     "execution_count": 22,
     "metadata": {},
     "output_type": "execute_result"
    }
   ],
   "source": [
    "daily_intensities.shape"
   ]
  },
  {
   "cell_type": "code",
   "execution_count": 23,
   "id": "929da494",
   "metadata": {},
   "outputs": [
    {
     "data": {
      "text/html": [
       "<div>\n",
       "<style scoped>\n",
       "    .dataframe tbody tr th:only-of-type {\n",
       "        vertical-align: middle;\n",
       "    }\n",
       "\n",
       "    .dataframe tbody tr th {\n",
       "        vertical-align: top;\n",
       "    }\n",
       "\n",
       "    .dataframe thead th {\n",
       "        text-align: right;\n",
       "    }\n",
       "</style>\n",
       "<table border=\"1\" class=\"dataframe\">\n",
       "  <thead>\n",
       "    <tr style=\"text-align: right;\">\n",
       "      <th></th>\n",
       "      <th>Id</th>\n",
       "      <th>SedentaryMinutes</th>\n",
       "      <th>LightlyActiveMinutes</th>\n",
       "      <th>FairlyActiveMinutes</th>\n",
       "      <th>VeryActiveMinutes</th>\n",
       "      <th>SedentaryActiveDistance</th>\n",
       "      <th>LightActiveDistance</th>\n",
       "      <th>ModeratelyActiveDistance</th>\n",
       "      <th>VeryActiveDistance</th>\n",
       "    </tr>\n",
       "  </thead>\n",
       "  <tbody>\n",
       "    <tr>\n",
       "      <th>count</th>\n",
       "      <td>9.400000e+02</td>\n",
       "      <td>940.000000</td>\n",
       "      <td>940.000000</td>\n",
       "      <td>940.000000</td>\n",
       "      <td>940.000000</td>\n",
       "      <td>940.000000</td>\n",
       "      <td>940.000000</td>\n",
       "      <td>940.000000</td>\n",
       "      <td>940.000000</td>\n",
       "    </tr>\n",
       "    <tr>\n",
       "      <th>mean</th>\n",
       "      <td>4.855407e+09</td>\n",
       "      <td>991.210638</td>\n",
       "      <td>192.812766</td>\n",
       "      <td>13.564894</td>\n",
       "      <td>21.164894</td>\n",
       "      <td>0.001606</td>\n",
       "      <td>3.340819</td>\n",
       "      <td>0.567543</td>\n",
       "      <td>1.502681</td>\n",
       "    </tr>\n",
       "    <tr>\n",
       "      <th>std</th>\n",
       "      <td>2.424805e+09</td>\n",
       "      <td>301.267437</td>\n",
       "      <td>109.174700</td>\n",
       "      <td>19.987404</td>\n",
       "      <td>32.844803</td>\n",
       "      <td>0.007346</td>\n",
       "      <td>2.040655</td>\n",
       "      <td>0.883580</td>\n",
       "      <td>2.658941</td>\n",
       "    </tr>\n",
       "    <tr>\n",
       "      <th>min</th>\n",
       "      <td>1.503960e+09</td>\n",
       "      <td>0.000000</td>\n",
       "      <td>0.000000</td>\n",
       "      <td>0.000000</td>\n",
       "      <td>0.000000</td>\n",
       "      <td>0.000000</td>\n",
       "      <td>0.000000</td>\n",
       "      <td>0.000000</td>\n",
       "      <td>0.000000</td>\n",
       "    </tr>\n",
       "    <tr>\n",
       "      <th>25%</th>\n",
       "      <td>2.320127e+09</td>\n",
       "      <td>729.750000</td>\n",
       "      <td>127.000000</td>\n",
       "      <td>0.000000</td>\n",
       "      <td>0.000000</td>\n",
       "      <td>0.000000</td>\n",
       "      <td>1.945000</td>\n",
       "      <td>0.000000</td>\n",
       "      <td>0.000000</td>\n",
       "    </tr>\n",
       "    <tr>\n",
       "      <th>50%</th>\n",
       "      <td>4.445115e+09</td>\n",
       "      <td>1057.500000</td>\n",
       "      <td>199.000000</td>\n",
       "      <td>6.000000</td>\n",
       "      <td>4.000000</td>\n",
       "      <td>0.000000</td>\n",
       "      <td>3.365000</td>\n",
       "      <td>0.240000</td>\n",
       "      <td>0.210000</td>\n",
       "    </tr>\n",
       "    <tr>\n",
       "      <th>75%</th>\n",
       "      <td>6.962181e+09</td>\n",
       "      <td>1229.500000</td>\n",
       "      <td>264.000000</td>\n",
       "      <td>19.000000</td>\n",
       "      <td>32.000000</td>\n",
       "      <td>0.000000</td>\n",
       "      <td>4.782500</td>\n",
       "      <td>0.800000</td>\n",
       "      <td>2.052500</td>\n",
       "    </tr>\n",
       "    <tr>\n",
       "      <th>max</th>\n",
       "      <td>8.877689e+09</td>\n",
       "      <td>1440.000000</td>\n",
       "      <td>518.000000</td>\n",
       "      <td>143.000000</td>\n",
       "      <td>210.000000</td>\n",
       "      <td>0.110000</td>\n",
       "      <td>10.710000</td>\n",
       "      <td>6.480000</td>\n",
       "      <td>21.920000</td>\n",
       "    </tr>\n",
       "  </tbody>\n",
       "</table>\n",
       "</div>"
      ],
      "text/plain": [
       "                 Id  SedentaryMinutes  LightlyActiveMinutes  \\\n",
       "count  9.400000e+02        940.000000            940.000000   \n",
       "mean   4.855407e+09        991.210638            192.812766   \n",
       "std    2.424805e+09        301.267437            109.174700   \n",
       "min    1.503960e+09          0.000000              0.000000   \n",
       "25%    2.320127e+09        729.750000            127.000000   \n",
       "50%    4.445115e+09       1057.500000            199.000000   \n",
       "75%    6.962181e+09       1229.500000            264.000000   \n",
       "max    8.877689e+09       1440.000000            518.000000   \n",
       "\n",
       "       FairlyActiveMinutes  VeryActiveMinutes  SedentaryActiveDistance  \\\n",
       "count           940.000000         940.000000               940.000000   \n",
       "mean             13.564894          21.164894                 0.001606   \n",
       "std              19.987404          32.844803                 0.007346   \n",
       "min               0.000000           0.000000                 0.000000   \n",
       "25%               0.000000           0.000000                 0.000000   \n",
       "50%               6.000000           4.000000                 0.000000   \n",
       "75%              19.000000          32.000000                 0.000000   \n",
       "max             143.000000         210.000000                 0.110000   \n",
       "\n",
       "       LightActiveDistance  ModeratelyActiveDistance  VeryActiveDistance  \n",
       "count           940.000000                940.000000          940.000000  \n",
       "mean              3.340819                  0.567543            1.502681  \n",
       "std               2.040655                  0.883580            2.658941  \n",
       "min               0.000000                  0.000000            0.000000  \n",
       "25%               1.945000                  0.000000            0.000000  \n",
       "50%               3.365000                  0.240000            0.210000  \n",
       "75%               4.782500                  0.800000            2.052500  \n",
       "max              10.710000                  6.480000           21.920000  "
      ]
     },
     "execution_count": 23,
     "metadata": {},
     "output_type": "execute_result"
    }
   ],
   "source": [
    "daily_intensities.describe()"
   ]
  },
  {
   "cell_type": "markdown",
   "id": "ff869763",
   "metadata": {},
   "source": [
    "Initial Takeaways\n",
    "- all dataframes share a common column (Id), meaning we can merge the datasets easily\n",
    "- daily_activity, daily_calories, and daily_intensities have the same # of obs\n",
    "- daily_activity dataframe already has a log of calories and intensities, so we can probably move on to analysis without daily_intensities and daily_cal"
   ]
  },
  {
   "cell_type": "markdown",
   "id": "6a95ef58",
   "metadata": {},
   "source": [
    "### Analysis"
   ]
  },
  {
   "cell_type": "markdown",
   "id": "29b598e5",
   "metadata": {},
   "source": [
    "#### Total Steps taken in a day vs Sedentary Minutes"
   ]
  },
  {
   "cell_type": "code",
   "execution_count": 24,
   "id": "c428e5da",
   "metadata": {},
   "outputs": [],
   "source": [
    "from plotnine import ggplot, aes, geom_point, stat_smooth"
   ]
  },
  {
   "cell_type": "code",
   "execution_count": 25,
   "id": "765fc006",
   "metadata": {},
   "outputs": [
    {
     "data": {
      "image/png": "[encoded data removed]",
      "text/plain": [
       "<Figure size 640x480 with 1 Axes>"
      ]
     },
     "metadata": {},
     "output_type": "display_data"
    },
    {
     "data": {
      "text/plain": [
       "<ggplot: (91917369847)>"
      ]
     },
     "execution_count": 25,
     "metadata": {},
     "output_type": "execute_result"
    }
   ],
   "source": [
    "ggplot(daily_act) + aes(x=\"TotalSteps\", y=\"SedentaryMinutes\", color = \"Calories\") + geom_point()\n"
   ]
  },
  {
   "cell_type": "markdown",
   "id": "5d34771b",
   "metadata": {},
   "source": [
    "- Negative relationship between total steps taken and inactivity (in minutes)\n",
    "    - more time spent inactive > less steps taken in a day\n",
    "- Calories and total steps have a positive relation\n",
    "    - more total steps > more burned calories"
   ]
  },
  {
   "cell_type": "markdown",
   "id": "8e9425c0",
   "metadata": {},
   "source": [
    "#### Total Steps vs Calories Regression"
   ]
  },
  {
   "cell_type": "code",
   "execution_count": 26,
   "id": "3e9e352f",
   "metadata": {},
   "outputs": [],
   "source": [
    "import seaborn as sns\n",
    "import matplotlib.pyplot as plt"
   ]
  },
  {
   "cell_type": "code",
   "execution_count": 27,
   "id": "31ef5ca7",
   "metadata": {},
   "outputs": [],
   "source": [
    "sns.set_theme(color_codes=True)"
   ]
  },
  {
   "cell_type": "markdown",
   "id": "e23539ca",
   "metadata": {},
   "source": [
    "#### Model Fitting"
   ]
  },
  {
   "cell_type": "code",
   "execution_count": 47,
   "id": "d3919e3d",
   "metadata": {},
   "outputs": [],
   "source": [
    "df = daily_act[[\"TotalSteps\", \"Calories\"]]"
   ]
  },
  {
   "cell_type": "code",
   "execution_count": 48,
   "id": "013dd0d6",
   "metadata": {},
   "outputs": [
    {
     "name": "stdout",
     "output_type": "stream",
     "text": [
      "Training set has 752 rows\n",
      "Test set has 188 rows\n"
     ]
    }
   ],
   "source": [
    "from sklearn.model_selection import train_test_split\n",
    "train, test = train_test_split(df, test_size=0.2, random_state=12345)\n",
    "print('Training set has', train.shape[0], 'rows')\n",
    "print('Test set has', test.shape[0], 'rows')"
   ]
  },
  {
   "cell_type": "code",
   "execution_count": 49,
   "id": "75b11964",
   "metadata": {},
   "outputs": [],
   "source": [
    "from sklearn.linear_model import LinearRegression\n",
    "model = LinearRegression()"
   ]
  },
  {
   "cell_type": "code",
   "execution_count": 51,
   "id": "ba7559ff",
   "metadata": {},
   "outputs": [
    {
     "data": {
      "text/plain": [
       "LinearRegression()"
      ]
     },
     "execution_count": 51,
     "metadata": {},
     "output_type": "execute_result"
    }
   ],
   "source": [
    "model.fit(X=train[[\"TotalSteps\"]], y=train[\"Calories\"])"
   ]
  },
  {
   "cell_type": "code",
   "execution_count": 52,
   "id": "d56ea277",
   "metadata": {},
   "outputs": [
    {
     "data": {
      "text/plain": [
       "1701.6983935611843"
      ]
     },
     "execution_count": 52,
     "metadata": {},
     "output_type": "execute_result"
    }
   ],
   "source": [
    "model.intercept_"
   ]
  },
  {
   "cell_type": "code",
   "execution_count": 53,
   "id": "3421c7d6",
   "metadata": {},
   "outputs": [
    {
     "data": {
      "text/plain": [
       "array([0.07997093])"
      ]
     },
     "execution_count": 53,
     "metadata": {},
     "output_type": "execute_result"
    }
   ],
   "source": [
    "model.coef_"
   ]
  },
  {
   "cell_type": "code",
   "execution_count": 55,
   "id": "46bfadf5",
   "metadata": {},
   "outputs": [
    {
     "name": "stdout",
     "output_type": "stream",
     "text": [
      "The estimated regression function is:\n",
      "\n",
      "ave burned cal = 1701.7 + 0.08 * TotalSteps\n"
     ]
    }
   ],
   "source": [
    "print('The estimated regression function is:\\n\\nave burned cal =', np.round(model.intercept_,2), '+', np.round(model.coef_[0],2), '* TotalSteps')"
   ]
  },
  {
   "cell_type": "code",
   "execution_count": 60,
   "id": "07f4c469",
   "metadata": {},
   "outputs": [
    {
     "data": {
      "text/plain": [
       "<AxesSubplot:xlabel='TotalSteps', ylabel='Calories'>"
      ]
     },
     "execution_count": 60,
     "metadata": {},
     "output_type": "execute_result"
    },
    {
     "data": {
      "image/png": "[encoded data removed]",
      "text/plain": [
       "<Figure size 432x288 with 1 Axes>"
      ]
     },
     "metadata": {},
     "output_type": "display_data"
    }
   ],
   "source": [
    "sns.regplot(x=train[[\"TotalSteps\"]], y=train[\"Calories\"])"
   ]
  },
  {
   "cell_type": "markdown",
   "id": "aee8b0c1",
   "metadata": {},
   "source": [
    "- On average, taking more steps per day results in more burned calories\n",
    "- On average, people already burn around 1700 calories without any activity\n",
    "- Majority of the data is clustered around 0-15,000 TotalSteps"
   ]
  },
  {
   "cell_type": "markdown",
   "id": "78f5bff6",
   "metadata": {},
   "source": [
    "#### Model Metrics"
   ]
  },
  {
   "cell_type": "code",
   "execution_count": 61,
   "id": "91c7fac7",
   "metadata": {},
   "outputs": [],
   "source": [
    "y_pred = model.predict(test[['TotalSteps']])"
   ]
  },
  {
   "cell_type": "code",
   "execution_count": 63,
   "id": "8c1e1849",
   "metadata": {},
   "outputs": [
    {
     "data": {
      "text/plain": [
       "325375.6436028182"
      ]
     },
     "execution_count": 63,
     "metadata": {},
     "output_type": "execute_result"
    }
   ],
   "source": [
    "from sklearn.metrics import mean_squared_error, mean_absolute_error, r2_score\n",
    "mean_squared_error(y_true=test['Calories'], y_pred=y_pred)"
   ]
  },
  {
   "cell_type": "code",
   "execution_count": 64,
   "id": "c3d21da8",
   "metadata": {},
   "outputs": [
    {
     "data": {
      "text/plain": [
       "451.137889785131"
      ]
     },
     "execution_count": 64,
     "metadata": {},
     "output_type": "execute_result"
    }
   ],
   "source": [
    "mean_absolute_error(y_true=test['Calories'], y_pred=y_pred)"
   ]
  },
  {
   "cell_type": "code",
   "execution_count": 65,
   "id": "8c171bca",
   "metadata": {},
   "outputs": [
    {
     "data": {
      "text/plain": [
       "0.4094502059900754"
      ]
     },
     "execution_count": 65,
     "metadata": {},
     "output_type": "execute_result"
    }
   ],
   "source": [
    "r2_score(y_true=test['Calories'], y_pred=y_pred)"
   ]
  },
  {
   "cell_type": "code",
   "execution_count": 67,
   "id": "50d620ce",
   "metadata": {},
   "outputs": [
    {
     "data": {
      "text/plain": [
       "<seaborn.axisgrid.FacetGrid at 0x15664c08370>"
      ]
     },
     "execution_count": 67,
     "metadata": {},
     "output_type": "execute_result"
    },
    {
     "data": {
      "image/png": "[encoded data removed]",
      "text/plain": [
       "<Figure size 360x360 with 1 Axes>"
      ]
     },
     "metadata": {},
     "output_type": "display_data"
    }
   ],
   "source": [
    "sns.relplot(x=test['Calories'], y=y_pred, kind=\"scatter\")"
   ]
  },
  {
   "cell_type": "markdown",
   "id": "f19e3e47",
   "metadata": {},
   "source": [
    "- Around 40"
   ]
  }
 ],
 "metadata": {
  "kernelspec": {
   "display_name": "Python 3 (ipykernel)",
   "language": "python",
   "name": "python3"
  },
  "language_info": {
   "codemirror_mode": {
    "name": "ipython",
    "version": 3
   },
   "file_extension": ".py",
   "mimetype": "text/x-python",
   "name": "python",
   "nbconvert_exporter": "python",
   "pygments_lexer": "ipython3",
   "version": "3.8.8"
  }
 },
 "nbformat": 4,
 "nbformat_minor": 5
}
